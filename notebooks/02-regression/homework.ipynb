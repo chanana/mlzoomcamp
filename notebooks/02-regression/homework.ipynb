{
 "cells": [
  {
   "cell_type": "code",
   "execution_count": 1,
   "id": "49e01717",
   "metadata": {},
   "outputs": [],
   "source": [
    "%load_ext autoreload\n",
    "%autoreload 2"
   ]
  },
  {
   "cell_type": "code",
   "execution_count": 2,
   "id": "9cee1d3f",
   "metadata": {},
   "outputs": [],
   "source": [
    "import pandas as pd"
   ]
  },
  {
   "cell_type": "code",
   "execution_count": 5,
   "id": "4df917e2",
   "metadata": {},
   "outputs": [],
   "source": [
    "train_cols = [\n",
    "    \"engine_displacement\",\n",
    "    \"horsepower\",\n",
    "    \"vehicle_weight\",\n",
    "    \"model_year\",\n",
    "]\n",
    "pred_col = \"fuel_efficiency_mpg\"\n",
    "df = pd.read_csv(\n",
    "    \"https://raw.githubusercontent.com/alexeygrigorev/datasets/master/car_fuel_efficiency.csv\",\n",
    "    usecols=train_cols + [pred_col],\n",
    ")"
   ]
  },
  {
   "cell_type": "code",
   "execution_count": 10,
   "id": "077e8f1e",
   "metadata": {},
   "outputs": [
    {
     "data": {
      "text/plain": [
       "<Axes: >"
      ]
     },
     "execution_count": 10,
     "metadata": {},
     "output_type": "execute_result"
    },
    {
     "data": {
      "image/png": "[encoded data removed]",
      "text/plain": [
       "<Figure size 640x480 with 1 Axes>"
      ]
     },
     "metadata": {},
     "output_type": "display_data"
    }
   ],
   "source": [
    "df[pred_col].hist()"
   ]
  },
  {
   "cell_type": "code",
   "execution_count": 7,
   "id": "ccbbd56a",
   "metadata": {},
   "outputs": [
    {
     "data": {
      "text/plain": [
       "engine_displacement      0\n",
       "horsepower             708\n",
       "vehicle_weight           0\n",
       "model_year               0\n",
       "fuel_efficiency_mpg      0\n",
       "dtype: int64"
      ]
     },
     "execution_count": 7,
     "metadata": {},
     "output_type": "execute_result"
    }
   ],
   "source": [
    "df.isna().sum()"
   ]
  },
  {
   "cell_type": "code",
   "execution_count": 8,
   "id": "39c9bb39",
   "metadata": {},
   "outputs": [
    {
     "data": {
      "text/plain": [
       "np.float64(149.0)"
      ]
     },
     "execution_count": 8,
     "metadata": {},
     "output_type": "execute_result"
    }
   ],
   "source": [
    "df.horsepower.median()"
   ]
  },
  {
   "cell_type": "code",
   "execution_count": 9,
   "id": "748bb0f3",
   "metadata": {},
   "outputs": [
    {
     "name": "stdout",
     "output_type": "stream",
     "text": [
      "Train: 60.02%\n",
      "Val: 19.99%\n",
      "Test: 19.99%\n"
     ]
    }
   ],
   "source": [
    "# train test split without using sklearn\n",
    "import numpy as np\n",
    "\n",
    "np.random.seed(42)\n",
    "\n",
    "n = len(df)\n",
    "\n",
    "n_val = int(0.2 * n)  # 20%\n",
    "n_test = int(0.2 * n)  # 20%\n",
    "n_train = n - (n_val + n_test)  # 60%\n",
    "\n",
    "idx = np.arange(n)\n",
    "np.random.shuffle(idx)\n",
    "\n",
    "df_shuffled = df.iloc[idx]\n",
    "\n",
    "df_train = df_shuffled.iloc[:n_train].copy()\n",
    "df_val = df_shuffled.iloc[n_train : n_train + n_val].copy()\n",
    "df_test = df_shuffled.iloc[n_train + n_val :].copy()\n",
    "\n",
    "print(\n",
    "    f\"Train: {(df_train.shape[0] / n):.2%}\",\n",
    "    f\"Val: {(df_val.shape[0] / n):.2%}\",\n",
    "    f\"Test: {(df_test.shape[0] / n):.2%}\",\n",
    "    sep=\"\\n\",\n",
    ")"
   ]
  },
  {
   "cell_type": "code",
   "execution_count": 11,
   "id": "b3d62707",
   "metadata": {},
   "outputs": [],
   "source": [
    "y_train = df_train[pred_col].values\n",
    "y_val = df_val[pred_col].values\n",
    "y_test = df_test[pred_col].values"
   ]
  },
  {
   "cell_type": "markdown",
   "id": "028b7487",
   "metadata": {},
   "source": [
    "# linear regression"
   ]
  },
  {
   "cell_type": "code",
   "execution_count": 12,
   "id": "5d5aa383",
   "metadata": {},
   "outputs": [],
   "source": [
    "def train_linear_regression(X, y):\n",
    "    ones = np.ones(X.shape[0])\n",
    "    X = np.column_stack([ones, X])\n",
    "\n",
    "    XTX = X.T.dot(X)\n",
    "    XTX_inv = np.linalg.inv(XTX)\n",
    "    w = XTX_inv.dot(X.T).dot(y)\n",
    "\n",
    "    return w[0], w[1:]"
   ]
  },
  {
   "cell_type": "code",
   "execution_count": 14,
   "id": "feef7a74",
   "metadata": {},
   "outputs": [],
   "source": [
    "def prepare_X(df: pd.DataFrame, cols: list[str], fill_value: float) -> np.ndarray:\n",
    "    df_num = df[cols]\n",
    "    df_num = df_num.fillna(fill_value)\n",
    "    X = df_num.values\n",
    "    return X"
   ]
  },
  {
   "cell_type": "markdown",
   "id": "69b605a3",
   "metadata": {},
   "source": [
    "## using 0 for fillna"
   ]
  },
  {
   "cell_type": "code",
   "execution_count": 15,
   "id": "33dc1b73",
   "metadata": {},
   "outputs": [],
   "source": [
    "X_train = prepare_X(df=df_train, cols=train_cols, fill_value=0)\n",
    "w_0, w = train_linear_regression(X_train, y_train)\n",
    "y_pred = w_0 + X_train.dot(w)"
   ]
  },
  {
   "cell_type": "code",
   "execution_count": 16,
   "id": "254201db",
   "metadata": {},
   "outputs": [],
   "source": [
    "def rmse(y, y_pred) -> float:\n",
    "    error = y_pred - y\n",
    "    mse = (error**2).mean()\n",
    "    return np.sqrt(mse)"
   ]
  },
  {
   "cell_type": "code",
   "execution_count": 17,
   "id": "222c8272",
   "metadata": {},
   "outputs": [
    {
     "name": "stdout",
     "output_type": "stream",
     "text": [
      "score=0.52\n"
     ]
    }
   ],
   "source": [
    "score = rmse(y_train, y_pred)\n",
    "print(f\"{score=:.2f}\")"
   ]
  },
  {
   "cell_type": "code",
   "execution_count": 18,
   "id": "7a8e3cd4",
   "metadata": {},
   "outputs": [
    {
     "name": "stdout",
     "output_type": "stream",
     "text": [
      "score=0.52\n"
     ]
    }
   ],
   "source": [
    "X_val = prepare_X(df_val, cols=train_cols, fill_value=0)\n",
    "y_pred = w_0 + X_val.dot(w)\n",
    "score = rmse(y_val, y_pred)\n",
    "print(f\"{score=:.2f}\")"
   ]
  },
  {
   "cell_type": "markdown",
   "id": "597ee340",
   "metadata": {},
   "source": [
    "## using mean of train for fillna"
   ]
  },
  {
   "cell_type": "code",
   "execution_count": 19,
   "id": "cb9c025b",
   "metadata": {},
   "outputs": [],
   "source": [
    "# since only horsepower has NAs\n",
    "X_train = prepare_X(df_train, cols=train_cols, fill_value=df_train.horsepower.mean())\n",
    "w_0, w = train_linear_regression(X_train, y_train)\n",
    "y_pred = w_0 + X_train.dot(w)"
   ]
  },
  {
   "cell_type": "code",
   "execution_count": 20,
   "id": "3b5006da",
   "metadata": {},
   "outputs": [
    {
     "name": "stdout",
     "output_type": "stream",
     "text": [
      "score=0.46\n"
     ]
    }
   ],
   "source": [
    "score = rmse(y_train, y_pred)\n",
    "print(f\"{score=:.2f}\")"
   ]
  },
  {
   "cell_type": "code",
   "execution_count": 21,
   "id": "a653cca5",
   "metadata": {},
   "outputs": [
    {
     "name": "stdout",
     "output_type": "stream",
     "text": [
      "score=0.46\n"
     ]
    }
   ],
   "source": [
    "X_val = prepare_X(df_val, cols=train_cols, fill_value=df_train.horsepower.mean())\n",
    "y_pred = w_0 + X_val.dot(w)\n",
    "score = rmse(y_val, y_pred)\n",
    "print(f\"{score=:.2f}\")"
   ]
  },
  {
   "cell_type": "markdown",
   "id": "fcdfd06f",
   "metadata": {},
   "source": [
    "# Regularization"
   ]
  },
  {
   "cell_type": "code",
   "execution_count": 22,
   "id": "9918402f",
   "metadata": {},
   "outputs": [],
   "source": [
    "def train_linear_regression_reg(X, y, r=0.0):\n",
    "    ones = np.ones(X.shape[0])\n",
    "    X = np.column_stack([ones, X])\n",
    "\n",
    "    XTX = X.T.dot(X)\n",
    "    reg = r * np.eye(XTX.shape[0])\n",
    "    XTX = XTX + reg\n",
    "\n",
    "    XTX_inv = np.linalg.inv(XTX)\n",
    "    w = XTX_inv.dot(X.T).dot(y)\n",
    "\n",
    "    return w[0], w[1:]"
   ]
  },
  {
   "cell_type": "code",
   "execution_count": 30,
   "id": "68aadab7",
   "metadata": {},
   "outputs": [
    {
     "name": "stdout",
     "output_type": "stream",
     "text": [
      "r=0.00, w_0=28.83, score=0.52026143\n",
      "r=0.01, w_0=24.93, score=0.52042184\n",
      "r=1.00, w_0=1.73, score=0.52794703\n",
      "r=10.00, w_0=0.18, score=0.52884326\n",
      "r=100.00, w_0=0.02, score=0.52894139\n"
     ]
    }
   ],
   "source": [
    "X_train = prepare_X(df_train, cols=train_cols, fill_value=0)\n",
    "scores = []\n",
    "for r in [0, 0.01, 1, 10, 100]:\n",
    "    w_0, w = train_linear_regression_reg(X_train, y_train, r=r)\n",
    "    y_pred = w_0 + X_train.dot(w)\n",
    "    score = rmse(y_train, y_pred)\n",
    "    scores.append(score)\n",
    "    print(f\"{r=:.2f}, {w_0=:.2f}, {score=:.8f}\")"
   ]
  },
  {
   "cell_type": "code",
   "execution_count": 37,
   "id": "8f2d8571",
   "metadata": {},
   "outputs": [
    {
     "data": {
      "text/plain": [
       "[<matplotlib.lines.Line2D at 0x115c62110>]"
      ]
     },
     "execution_count": 37,
     "metadata": {},
     "output_type": "execute_result"
    },
    {
     "data": {
      "image/png": "[encoded data removed]",
      "text/plain": [
       "<Figure size 640x480 with 1 Axes>"
      ]
     },
     "metadata": {},
     "output_type": "display_data"
    }
   ],
   "source": [
    "import matplotlib.pyplot as plt\n",
    "\n",
    "plt.plot([0, 0.01, 1, 10, 100], scores, \"x-\")"
   ]
  },
  {
   "cell_type": "code",
   "execution_count": 73,
   "id": "bc44ff0c",
   "metadata": {},
   "outputs": [
    {
     "name": "stdout",
     "output_type": "stream",
     "text": [
      "seed=0, w_0=27.38, score=0.52065313\n",
      "seed=1, w_0=29.02, score=0.52133889\n",
      "seed=2, w_0=25.90, score=0.52280700\n",
      "seed=3, w_0=28.02, score=0.51595167\n",
      "seed=4, w_0=25.93, score=0.51091295\n",
      "seed=5, w_0=25.90, score=0.52834065\n",
      "seed=6, w_0=25.92, score=0.53139107\n",
      "seed=7, w_0=28.41, score=0.50906704\n",
      "seed=8, w_0=26.48, score=0.51473991\n",
      "seed=9, w_0=27.51, score=0.51318659\n",
      "np.std(scores)=0.007\n"
     ]
    }
   ],
   "source": [
    "scores = []\n",
    "\n",
    "for seed in [0, 1, 2, 3, 4, 5, 6, 7, 8, 9]:\n",
    "    np.random.seed(seed)\n",
    "    idx = np.arange(n)\n",
    "    np.random.shuffle(idx)\n",
    "\n",
    "    df_shuffled = df.iloc[idx]\n",
    "\n",
    "    df_train = df_shuffled.iloc[:n_train].copy()\n",
    "    df_val = df_shuffled.iloc[n_train : n_train + n_val].copy()\n",
    "    df_test = df_shuffled.iloc[n_train + n_val :].copy()\n",
    "\n",
    "    y_train = df_train[pred_col].values\n",
    "    y_val = df_val[pred_col].values\n",
    "    y_test = df_test[pred_col].values\n",
    "\n",
    "    X_train = prepare_X(df_train, cols=train_cols, fill_value=0)\n",
    "    X_val = prepare_X(df_val, cols=train_cols, fill_value=0)\n",
    "\n",
    "    # train model\n",
    "    w_0, w = train_linear_regression(X=X_train, y=y_train)\n",
    "\n",
    "    # predict on val\n",
    "    y_pred = w_0 + X_val.dot(w)\n",
    "\n",
    "    # calc rmse\n",
    "    score = rmse(y=y_val, y_pred=y_pred)\n",
    "    scores.append(score)\n",
    "    print(f\"{seed=}, {w_0=:.2f}, {score=:.8f}\")\n",
    "\n",
    "print(f\"{np.std(scores)=:.3f}\")"
   ]
  },
  {
   "cell_type": "code",
   "execution_count": null,
   "id": "5908678c",
   "metadata": {},
   "outputs": [],
   "source": [
    "np.random.seed(9)\n",
    "idx = np.arange(n)\n",
    "np.random.shuffle(idx)\n",
    "\n",
    "n = len(df)\n",
    "\n",
    "n_test = int(0.2 * n)  # 20%\n",
    "n_train = n - n_test # 80%\n",
    "\n",
    "df_shuffled = df.iloc[idx]\n",
    "\n",
    "df_train = df_shuffled.iloc[:n_train].copy()\n",
    "df_val = df_shuffled.iloc[n_train : n_train + n_val].copy()\n",
    "df_test = df_shuffled.iloc[n_train + n_val :].copy()\n",
    "\n",
    "y_train = df_train[pred_col].values\n",
    "y_val = df_val[pred_col].values\n",
    "y_test = df_test[pred_col].values\n"
   ]
  }
 ],
 "metadata": {
  "kernelspec": {
   "display_name": ".venv",
   "language": "python",
   "name": "python3"
  },
  "language_info": {
   "codemirror_mode": {
    "name": "ipython",
    "version": 3
   },
   "file_extension": ".py",
   "mimetype": "text/x-python",
   "name": "python",
   "nbconvert_exporter": "python",
   "pygments_lexer": "ipython3",
   "version": "3.11.13"
  }
 },
 "nbformat": 4,
 "nbformat_minor": 5
}
