{
 "cells": [
  {
   "cell_type": "code",
   "execution_count": 1,
   "id": "fd991847",
   "metadata": {},
   "outputs": [],
   "source": [
    "import pandas as pd\n",
    "\n",
    "df = pd.read_csv(\n",
    "    \"https://raw.githubusercontent.com/alexeygrigorev/datasets/master/course_lead_scoring.csv\"\n",
    ")"
   ]
  },
  {
   "cell_type": "code",
   "execution_count": 2,
   "id": "d44b2ce1",
   "metadata": {},
   "outputs": [
    {
     "data": {
      "text/html": [
       "<div>\n",
       "<style scoped>\n",
       "    .dataframe tbody tr th:only-of-type {\n",
       "        vertical-align: middle;\n",
       "    }\n",
       "\n",
       "    .dataframe tbody tr th {\n",
       "        vertical-align: top;\n",
       "    }\n",
       "\n",
       "    .dataframe thead th {\n",
       "        text-align: right;\n",
       "    }\n",
       "</style>\n",
       "<table border=\"1\" class=\"dataframe\">\n",
       "  <thead>\n",
       "    <tr style=\"text-align: right;\">\n",
       "      <th></th>\n",
       "      <th>lead_source</th>\n",
       "      <th>industry</th>\n",
       "      <th>number_of_courses_viewed</th>\n",
       "      <th>annual_income</th>\n",
       "      <th>employment_status</th>\n",
       "      <th>location</th>\n",
       "      <th>interaction_count</th>\n",
       "      <th>lead_score</th>\n",
       "      <th>converted</th>\n",
       "    </tr>\n",
       "  </thead>\n",
       "  <tbody>\n",
       "    <tr>\n",
       "      <th>0</th>\n",
       "      <td>paid_ads</td>\n",
       "      <td>NaN</td>\n",
       "      <td>1</td>\n",
       "      <td>79450.0</td>\n",
       "      <td>unemployed</td>\n",
       "      <td>south_america</td>\n",
       "      <td>4</td>\n",
       "      <td>0.94</td>\n",
       "      <td>1</td>\n",
       "    </tr>\n",
       "    <tr>\n",
       "      <th>1</th>\n",
       "      <td>social_media</td>\n",
       "      <td>retail</td>\n",
       "      <td>1</td>\n",
       "      <td>46992.0</td>\n",
       "      <td>employed</td>\n",
       "      <td>south_america</td>\n",
       "      <td>1</td>\n",
       "      <td>0.80</td>\n",
       "      <td>0</td>\n",
       "    </tr>\n",
       "    <tr>\n",
       "      <th>2</th>\n",
       "      <td>events</td>\n",
       "      <td>healthcare</td>\n",
       "      <td>5</td>\n",
       "      <td>78796.0</td>\n",
       "      <td>unemployed</td>\n",
       "      <td>australia</td>\n",
       "      <td>3</td>\n",
       "      <td>0.69</td>\n",
       "      <td>1</td>\n",
       "    </tr>\n",
       "    <tr>\n",
       "      <th>3</th>\n",
       "      <td>paid_ads</td>\n",
       "      <td>retail</td>\n",
       "      <td>2</td>\n",
       "      <td>83843.0</td>\n",
       "      <td>NaN</td>\n",
       "      <td>australia</td>\n",
       "      <td>1</td>\n",
       "      <td>0.87</td>\n",
       "      <td>0</td>\n",
       "    </tr>\n",
       "    <tr>\n",
       "      <th>4</th>\n",
       "      <td>referral</td>\n",
       "      <td>education</td>\n",
       "      <td>3</td>\n",
       "      <td>85012.0</td>\n",
       "      <td>self_employed</td>\n",
       "      <td>europe</td>\n",
       "      <td>3</td>\n",
       "      <td>0.62</td>\n",
       "      <td>1</td>\n",
       "    </tr>\n",
       "    <tr>\n",
       "      <th>...</th>\n",
       "      <td>...</td>\n",
       "      <td>...</td>\n",
       "      <td>...</td>\n",
       "      <td>...</td>\n",
       "      <td>...</td>\n",
       "      <td>...</td>\n",
       "      <td>...</td>\n",
       "      <td>...</td>\n",
       "      <td>...</td>\n",
       "    </tr>\n",
       "    <tr>\n",
       "      <th>1457</th>\n",
       "      <td>referral</td>\n",
       "      <td>manufacturing</td>\n",
       "      <td>1</td>\n",
       "      <td>NaN</td>\n",
       "      <td>self_employed</td>\n",
       "      <td>north_america</td>\n",
       "      <td>4</td>\n",
       "      <td>0.53</td>\n",
       "      <td>1</td>\n",
       "    </tr>\n",
       "    <tr>\n",
       "      <th>1458</th>\n",
       "      <td>referral</td>\n",
       "      <td>technology</td>\n",
       "      <td>3</td>\n",
       "      <td>65259.0</td>\n",
       "      <td>student</td>\n",
       "      <td>europe</td>\n",
       "      <td>2</td>\n",
       "      <td>0.24</td>\n",
       "      <td>1</td>\n",
       "    </tr>\n",
       "    <tr>\n",
       "      <th>1459</th>\n",
       "      <td>paid_ads</td>\n",
       "      <td>technology</td>\n",
       "      <td>1</td>\n",
       "      <td>45688.0</td>\n",
       "      <td>student</td>\n",
       "      <td>north_america</td>\n",
       "      <td>3</td>\n",
       "      <td>0.02</td>\n",
       "      <td>1</td>\n",
       "    </tr>\n",
       "    <tr>\n",
       "      <th>1460</th>\n",
       "      <td>referral</td>\n",
       "      <td>NaN</td>\n",
       "      <td>5</td>\n",
       "      <td>71016.0</td>\n",
       "      <td>self_employed</td>\n",
       "      <td>north_america</td>\n",
       "      <td>0</td>\n",
       "      <td>0.25</td>\n",
       "      <td>1</td>\n",
       "    </tr>\n",
       "    <tr>\n",
       "      <th>1461</th>\n",
       "      <td>organic_search</td>\n",
       "      <td>finance</td>\n",
       "      <td>3</td>\n",
       "      <td>92855.0</td>\n",
       "      <td>student</td>\n",
       "      <td>north_america</td>\n",
       "      <td>3</td>\n",
       "      <td>0.41</td>\n",
       "      <td>1</td>\n",
       "    </tr>\n",
       "  </tbody>\n",
       "</table>\n",
       "<p>1462 rows × 9 columns</p>\n",
       "</div>"
      ],
      "text/plain": [
       "         lead_source       industry  number_of_courses_viewed  annual_income  \\\n",
       "0           paid_ads            NaN                         1        79450.0   \n",
       "1       social_media         retail                         1        46992.0   \n",
       "2             events     healthcare                         5        78796.0   \n",
       "3           paid_ads         retail                         2        83843.0   \n",
       "4           referral      education                         3        85012.0   \n",
       "...              ...            ...                       ...            ...   \n",
       "1457        referral  manufacturing                         1            NaN   \n",
       "1458        referral     technology                         3        65259.0   \n",
       "1459        paid_ads     technology                         1        45688.0   \n",
       "1460        referral            NaN                         5        71016.0   \n",
       "1461  organic_search        finance                         3        92855.0   \n",
       "\n",
       "     employment_status       location  interaction_count  lead_score  \\\n",
       "0           unemployed  south_america                  4        0.94   \n",
       "1             employed  south_america                  1        0.80   \n",
       "2           unemployed      australia                  3        0.69   \n",
       "3                  NaN      australia                  1        0.87   \n",
       "4        self_employed         europe                  3        0.62   \n",
       "...                ...            ...                ...         ...   \n",
       "1457     self_employed  north_america                  4        0.53   \n",
       "1458           student         europe                  2        0.24   \n",
       "1459           student  north_america                  3        0.02   \n",
       "1460     self_employed  north_america                  0        0.25   \n",
       "1461           student  north_america                  3        0.41   \n",
       "\n",
       "      converted  \n",
       "0             1  \n",
       "1             0  \n",
       "2             1  \n",
       "3             0  \n",
       "4             1  \n",
       "...         ...  \n",
       "1457          1  \n",
       "1458          1  \n",
       "1459          1  \n",
       "1460          1  \n",
       "1461          1  \n",
       "\n",
       "[1462 rows x 9 columns]"
      ]
     },
     "execution_count": 2,
     "metadata": {},
     "output_type": "execute_result"
    }
   ],
   "source": [
    "df"
   ]
  },
  {
   "cell_type": "code",
   "execution_count": 3,
   "id": "5c1fc152",
   "metadata": {},
   "outputs": [
    {
     "data": {
      "text/plain": [
       "Index(['lead_source', 'industry', 'number_of_courses_viewed', 'annual_income',\n",
       "       'employment_status', 'location', 'interaction_count', 'lead_score',\n",
       "       'converted'],\n",
       "      dtype='object')"
      ]
     },
     "execution_count": 3,
     "metadata": {},
     "output_type": "execute_result"
    }
   ],
   "source": [
    "df.columns"
   ]
  },
  {
   "cell_type": "code",
   "execution_count": 4,
   "id": "ec4cbb85",
   "metadata": {},
   "outputs": [],
   "source": [
    "categorical_features = [\"lead_source\", \"industry\", \"employment_status\", \"location\"]\n",
    "numerical_features = [\n",
    "    \"lead_score\",\n",
    "    \"number_of_courses_viewed\",\n",
    "    \"interaction_count\",\n",
    "    \"annual_income\",\n",
    "]\n",
    "target_variable = \"converted\""
   ]
  },
  {
   "cell_type": "code",
   "execution_count": 5,
   "id": "973d1f41",
   "metadata": {},
   "outputs": [
    {
     "data": {
      "text/plain": [
       "lead_source                  8.755130\n",
       "industry                     9.165527\n",
       "number_of_courses_viewed     0.000000\n",
       "annual_income               12.380301\n",
       "employment_status            6.839945\n",
       "location                     4.309166\n",
       "interaction_count            0.000000\n",
       "lead_score                   0.000000\n",
       "converted                    0.000000\n",
       "dtype: float64"
      ]
     },
     "execution_count": 5,
     "metadata": {},
     "output_type": "execute_result"
    }
   ],
   "source": [
    "df.isna().sum() / df.shape[0] * 100"
   ]
  },
  {
   "cell_type": "code",
   "execution_count": 6,
   "id": "75acdba6",
   "metadata": {},
   "outputs": [],
   "source": [
    "# Check if the missing values are presented in the features.\n",
    "# If there are missing values:\n",
    "# For caterogiral features, replace them with 'NA'\n",
    "# For numerical features, replace with with 0.0\n",
    "\n",
    "for col in df.columns:\n",
    "    df[col] = (\n",
    "        df[col].fillna(\"NA\") if col in categorical_features else df[col].fillna(0.0)\n",
    "    )"
   ]
  },
  {
   "cell_type": "code",
   "execution_count": 7,
   "id": "2599a48a",
   "metadata": {},
   "outputs": [
    {
     "data": {
      "text/plain": [
       "lead_source                 0.0\n",
       "industry                    0.0\n",
       "number_of_courses_viewed    0.0\n",
       "annual_income               0.0\n",
       "employment_status           0.0\n",
       "location                    0.0\n",
       "interaction_count           0.0\n",
       "lead_score                  0.0\n",
       "converted                   0.0\n",
       "dtype: float64"
      ]
     },
     "execution_count": 7,
     "metadata": {},
     "output_type": "execute_result"
    }
   ],
   "source": [
    "df.isna().sum() / df.shape[0] * 100"
   ]
  },
  {
   "cell_type": "code",
   "execution_count": 8,
   "id": "155c2b17",
   "metadata": {},
   "outputs": [
    {
     "data": {
      "text/plain": [
       "array([0.5998632, 0.2004104, 0.1997264])"
      ]
     },
     "execution_count": 8,
     "metadata": {},
     "output_type": "execute_result"
    }
   ],
   "source": [
    "import numpy as np\n",
    "from sklearn.model_selection import train_test_split\n",
    "\n",
    "train_ratio = 0.60\n",
    "test_ratio = 0.20\n",
    "validation_ratio = 0.20\n",
    "\n",
    "# train is now 60% of the entire data set\n",
    "# test is 40% but we will split it again\n",
    "df_train, df_test = train_test_split(\n",
    "    df,\n",
    "    test_size=1 - train_ratio,\n",
    "    random_state=1,\n",
    ")\n",
    "\n",
    "# test is now 20% of the initial data set\n",
    "# validation is now 20% of the initial data set\n",
    "df_test, df_val = train_test_split(\n",
    "    df_test,\n",
    "    test_size=test_ratio / (test_ratio + validation_ratio),\n",
    "    random_state=1,\n",
    ")\n",
    "\n",
    "y_train = df_train[target_variable].values\n",
    "y_test = df_test[target_variable].values\n",
    "y_val = df_val[target_variable].values\n",
    "\n",
    "df_train = df_train.drop(columns=target_variable)\n",
    "df_test = df_test.drop(columns=target_variable)\n",
    "df_val = df_val.drop(columns=target_variable)\n",
    "\n",
    "np.array([df_train.shape[0], df_val.shape[0], df_test.shape[0]]) / df.shape[0]"
   ]
  },
  {
   "cell_type": "code",
   "execution_count": 9,
   "id": "7a1f52dd",
   "metadata": {},
   "outputs": [
    {
     "name": "stdout",
     "output_type": "stream",
     "text": [
      "feat='lead_score' auc=0.6111168681007025\n",
      "feat='number_of_courses_viewed' auc=0.7652439024390244\n",
      "feat='interaction_count' auc=0.7271914132379249\n",
      "feat='annual_income' auc=0.5446354552990968\n"
     ]
    }
   ],
   "source": [
    "from sklearn.metrics import roc_auc_score\n",
    "\n",
    "for feat in numerical_features:\n",
    "    # use numerical feature as predicted result\n",
    "    yp = df_train[feat]\n",
    "\n",
    "    # use the target variable (y_train) as the ground truth\n",
    "    auc = roc_auc_score(y_true=y_train, y_score=yp)\n",
    "    print(f\"{feat=} {auc=}\")"
   ]
  },
  {
   "cell_type": "code",
   "execution_count": 10,
   "id": "aba12a0f",
   "metadata": {},
   "outputs": [
    {
     "name": "stdout",
     "output_type": "stream",
     "text": [
      "0.8\n"
     ]
    }
   ],
   "source": [
    "from sklearn.feature_extraction import DictVectorizer\n",
    "from sklearn.linear_model import LogisticRegression\n",
    "\n",
    "\n",
    "def train(df_train, y_train, C):\n",
    "    dicts = df_train[categorical_features + numerical_features].to_dict(\n",
    "        orient=\"records\"\n",
    "    )\n",
    "\n",
    "    dv = DictVectorizer(sparse=False)\n",
    "    X_train = dv.fit_transform(dicts)\n",
    "\n",
    "    model = LogisticRegression(C=C, max_iter=1000, solver=\"liblinear\")\n",
    "    model.fit(X_train, y_train)\n",
    "\n",
    "    return dv, model\n",
    "\n",
    "\n",
    "def predict(df, dv, model):\n",
    "    dicts = df[categorical_features + numerical_features].to_dict(orient=\"records\")\n",
    "\n",
    "    X = dv.transform(dicts)\n",
    "    y_pred = model.predict_proba(X)[:, 1]\n",
    "\n",
    "    return y_pred\n",
    "\n",
    "\n",
    "dv, model = train(df_train, y_train, C=1.0)\n",
    "y_pred = predict(df_val, dv, model)\n",
    "\n",
    "auc_score = round(roc_auc_score(y_true=y_val, y_score=y_pred), 3)\n",
    "print(auc_score)"
   ]
  },
  {
   "cell_type": "code",
   "execution_count": 11,
   "id": "6cc909b8",
   "metadata": {},
   "outputs": [
    {
     "data": {
      "text/plain": [
       "0.72"
      ]
     },
     "execution_count": 11,
     "metadata": {},
     "output_type": "execute_result"
    }
   ],
   "source": [
    "answers = [0.32, 0.52, 0.72, 0.92]\n",
    "how_close = np.zeros(len(answers))\n",
    "for idx, answer in enumerate(answers):\n",
    "    how_close[idx] = abs(auc_score - answer)\n",
    "\n",
    "answers[how_close.argmin()]"
   ]
  },
  {
   "cell_type": "code",
   "execution_count": 12,
   "id": "d23fc9ea",
   "metadata": {},
   "outputs": [],
   "source": [
    "def get_precision_recall(\n",
    "    y_val: np.ndarray, y_pred: np.ndarray, threshold: float\n",
    ") -> tuple[float, float]:\n",
    "    # we predicted 1 when it was actually 1 (true)\n",
    "    tp = ((y_val == 1) & (y_pred >= threshold)).sum()\n",
    "\n",
    "    # we predicted 1 when it was actually 0 (false)\n",
    "    fp = ((y_val == 0) & (y_pred >= threshold)).sum()\n",
    "\n",
    "    # we predicted 0 and it was actually 0\n",
    "    # tn = ((y_val == 0) & (y_pred < 0.5)).sum()\n",
    "\n",
    "    # we predicted 0 and it was actually 1\n",
    "    fn = ((y_val == 1) & (y_pred < threshold)).sum()\n",
    "\n",
    "    # precision (how many things did i get right from all the things i predicted)\n",
    "    precision = tp / (tp + fp)\n",
    "\n",
    "    # recall (how many things did I get right from the things that are relevant)\n",
    "    recall = tp / (tp + fn)\n",
    "\n",
    "    # f1 (harmonic mean of p and r)\n",
    "    f1 = 2 * precision * recall / (precision + recall)\n",
    "\n",
    "    return precision, recall, f1"
   ]
  },
  {
   "cell_type": "code",
   "execution_count": 13,
   "id": "f9704991",
   "metadata": {},
   "outputs": [],
   "source": [
    "pr = np.array(\n",
    "    [\n",
    "        get_precision_recall(y_val, y_pred, thresh)\n",
    "        for thresh in np.arange(start=0, stop=0.98, step=0.01)\n",
    "    ]\n",
    ")"
   ]
  },
  {
   "cell_type": "code",
   "execution_count": 14,
   "id": "87bcde51",
   "metadata": {},
   "outputs": [
    {
     "data": {
      "text/plain": [
       "<matplotlib.legend.Legend at 0x11bb7a310>"
      ]
     },
     "execution_count": 14,
     "metadata": {},
     "output_type": "execute_result"
    },
    {
     "data": {
      "image/png": "[encoded data removed]",
      "text/plain": [
       "<Figure size 640x480 with 1 Axes>"
      ]
     },
     "metadata": {},
     "output_type": "display_data"
    }
   ],
   "source": [
    "import matplotlib.pyplot as plt\n",
    "\n",
    "plt.plot(pr[:, 0], label=\"precision\", c=\"blue\")\n",
    "plt.plot(pr[:, 1], label=\"recall\", c=\"red\")\n",
    "plt.plot(pr[:, 2], label=\"f1\", c=\"green\")\n",
    "plt.legend()"
   ]
  },
  {
   "cell_type": "code",
   "execution_count": 15,
   "id": "4b056016",
   "metadata": {},
   "outputs": [
    {
     "data": {
      "text/plain": [
       "np.float64(0.59)"
      ]
     },
     "execution_count": 15,
     "metadata": {},
     "output_type": "execute_result"
    }
   ],
   "source": [
    "# At which threshold precision and recall curves intersect?\n",
    "min_idx = np.argmin(abs(pr[:, 0] - pr[:, 1]))\n",
    "np.arange(0, 0.99, 0.01)[min_idx]"
   ]
  },
  {
   "cell_type": "code",
   "execution_count": 16,
   "id": "ee44b70c",
   "metadata": {},
   "outputs": [
    {
     "data": {
      "text/plain": [
       "np.float64(0.55)"
      ]
     },
     "execution_count": 16,
     "metadata": {},
     "output_type": "execute_result"
    }
   ],
   "source": [
    "# At which threshold F1 is maximal?\n",
    "max_idx = np.argmax(pr[:, 2])\n",
    "np.arange(0, 0.99, 0.01)[max_idx]"
   ]
  },
  {
   "cell_type": "code",
   "execution_count": 17,
   "id": "97e47e77",
   "metadata": {},
   "outputs": [
    {
     "data": {
      "text/plain": [
       "<matplotlib.legend.Legend at 0x11bbc2ed0>"
      ]
     },
     "execution_count": 17,
     "metadata": {},
     "output_type": "execute_result"
    },
    {
     "data": {
      "image/png": "[encoded data removed]",
      "text/plain": [
       "<Figure size 500x500 with 1 Axes>"
      ]
     },
     "metadata": {},
     "output_type": "display_data"
    }
   ],
   "source": [
    "from sklearn.metrics import roc_curve\n",
    "\n",
    "fpr, tpr, thresholds = roc_curve(y_val, y_pred)\n",
    "\n",
    "plt.figure(figsize=(5, 5))\n",
    "plt.plot(fpr, tpr, label=\"Model\")\n",
    "plt.plot([0, 1], [0, 1], label=\"Random\", linestyle=\"--\")\n",
    "plt.xlabel(\"FPR\")\n",
    "plt.ylabel(\"TPR\")\n",
    "plt.legend()"
   ]
  },
  {
   "cell_type": "code",
   "execution_count": 38,
   "id": "0d935d43",
   "metadata": {},
   "outputs": [
    {
     "name": "stdout",
     "output_type": "stream",
     "text": [
      "np.mean(scores)=0.822, np.std(scores)=0.036\n"
     ]
    }
   ],
   "source": [
    "from sklearn.model_selection import KFold\n",
    "from tqdm import tqdm\n",
    "\n",
    "# Create train/test split for K-fold validation (keeping target variable in df_full_train)\n",
    "df_full_train, df_test = train_test_split(df, test_size=0.2, random_state=1)\n",
    "kfold = KFold(n_splits=5, shuffle=True, random_state=1)\n",
    "\n",
    "scores = []\n",
    "for train_idx, val_idx in kfold.split(df_full_train):\n",
    "    df_train = df_full_train.iloc[train_idx]\n",
    "    df_val = df_full_train.iloc[val_idx]\n",
    "\n",
    "    # Extract target variable and features\n",
    "    y_train = df_train[target_variable].values\n",
    "    y_val = df_val[target_variable].values\n",
    "\n",
    "    # Remove target variable from training and validation sets\n",
    "    df_train_features = df_train.drop(columns=[target_variable])\n",
    "    df_val_features = df_val.drop(columns=[target_variable])\n",
    "\n",
    "    dv, model = train(df_train_features, y_train, C=1)\n",
    "    y_pred = predict(df_val_features, dv, model)\n",
    "\n",
    "    auc = roc_auc_score(y_val, y_pred)\n",
    "    scores.append(auc)\n",
    "\n",
    "print(f\"{np.mean(scores)=:.3f}, {np.std(scores)=:.3f}\")"
   ]
  },
  {
   "cell_type": "code",
   "execution_count": 37,
   "id": "c4af61e7",
   "metadata": {},
   "outputs": [
    {
     "name": "stderr",
     "output_type": "stream",
     "text": [
      "100%|██████████| 3/3 [00:00<00:00, 26.75it/s]"
     ]
    },
    {
     "name": "stdout",
     "output_type": "stream",
     "text": [
      "C=1e-06 0.560 +- 0.024\n",
      "C=0.001 0.867 +- 0.029\n",
      "C=1 0.822 +- 0.036\n"
     ]
    },
    {
     "name": "stderr",
     "output_type": "stream",
     "text": [
      "\n"
     ]
    }
   ],
   "source": [
    "from sklearn.model_selection import KFold\n",
    "from tqdm import tqdm\n",
    "\n",
    "# Create train/test split for K-fold validation (keeping target variable in df_full_train)\n",
    "df_full_train, df_test = train_test_split(df, test_size=0.2, random_state=1)\n",
    "\n",
    "n_splits = 5\n",
    "\n",
    "for C in tqdm([0.000001, 0.001, 1]):\n",
    "    kfold = KFold(n_splits=n_splits, shuffle=True, random_state=1)\n",
    "\n",
    "    scores = []\n",
    "\n",
    "    for train_idx, val_idx in kfold.split(df_full_train):\n",
    "        df_train = df_full_train.iloc[train_idx]\n",
    "        df_val = df_full_train.iloc[val_idx]\n",
    "\n",
    "        y_train = df_train[target_variable].values\n",
    "        y_val = df_val[target_variable].values\n",
    "\n",
    "        dv, model = train(df_train, y_train, C=C)\n",
    "        y_pred = predict(df_val, dv, model)\n",
    "\n",
    "        auc = roc_auc_score(y_val, y_pred)\n",
    "        scores.append(auc)\n",
    "\n",
    "    print(\"C=%s %.3f +- %.3f\" % (C, np.mean(scores), np.std(scores)))"
   ]
  }
 ],
 "metadata": {
  "kernelspec": {
   "display_name": ".venv",
   "language": "python",
   "name": "python3"
  },
  "language_info": {
   "codemirror_mode": {
    "name": "ipython",
    "version": 3
   },
   "file_extension": ".py",
   "mimetype": "text/x-python",
   "name": "python",
   "nbconvert_exporter": "python",
   "pygments_lexer": "ipython3",
   "version": "3.11.13"
  }
 },
 "nbformat": 4,
 "nbformat_minor": 5
}
